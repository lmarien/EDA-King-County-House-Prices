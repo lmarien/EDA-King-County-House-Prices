{
 "cells": [
  {
   "cell_type": "markdown",
   "metadata": {},
   "source": [
    "# Example EDA on the King County Housing Dataset\n",
    "## Abstract\n",
    "This notebook provides an example of an EDA on a dataset of house sales in King County, Washington, USA. First, a (fictitious) stakeholder that wants to sell her houses is introduced to define the scope and guide the investigation into the data. The main priorities, definitions and assumptions, as well as the questions the stakeholder needs to be answered, are discussed.\n",
    "\n",
    "Second, the investigation into the data is given in this notebook, structured and commented to be easily digested by, e.g., other data scientists. \n",
    "Finally, the results of the inquiry are summarized and actionable recommendations for the stakeholder are formulated."
   ]
  },
  {
   "cell_type": "markdown",
   "metadata": {},
   "source": [
    "## Table of Contents\n",
    "1. [The King County Housing Price Dataset](#the-king-county-housing-price-dataset)\n",
    "2. [Stakeholder Perspective](#Stakeholder-Perspective)\n",
    "3. EDA\n",
    "4. Summary and Conclusions"
   ]
  },
  {
   "cell_type": "markdown",
   "metadata": {},
   "source": [
    "## The King County Housing Price Dataset\n",
    "The [King County Housing Price Data Set](https://www.kaggle.com/harlfoxem/housesalesprediction) provides data on over 20,000 house sales in King County, Washington located in the center of the Seattle Metropolitan Area. The data covers the period from May 2014 to May 2015 and comprises details such as price, year of construction, number of bedrooms, geographical location etc. Our client is a prospective seller looking for new market insights and tasks us with an explorative data analysis of the dataset with focus on her individual makeup.\n",
    "\n",
    "The data set has 21597 rows and 20 columns. Each row represents one transaction, for a house that was sold from May 2 2014 to May 27 2015. The columns provide details of the houses, such as price, living space or location. A description of the different columns has been kindly borrowed from [GeoDa Data and Lab](https://geodacenter.github.io/data-and-lab/KingCounty-HouseSales2015/)\n",
    "\n",
    "|Variable|\tDescription|\n",
    "|--------|-------------|\n",
    "id\t|Identification\n",
    "date|\tDate sold\n",
    "price|\tSale price\n",
    "bedrooms|\tNumber of bedrooms\n",
    "bathrooms|\tNumber of bathrooms\n",
    "sqft_liv|\tSize of living area in square feet\n",
    "sqft_lot|\tSize of the lot in square feet\n",
    "floors|\tNumber of floors\n",
    "waterfront|\t‘1’ if the property has a waterfront, ‘0’ if not.\n",
    "view|\tAn index from 0 to 4 of how good the view of the property was\n",
    "condition|\tCondition of the house, ranked from 1 to 5\n",
    "grade|\tClassification by construction quality which refers to the types of materials used and the quality of workmanship. Buildings of better quality (higher grade) cost more to build per unit of measure and command higher value. Additional information in: KingCounty\n",
    "sqft_above|\tSquare feet above ground\n",
    "sqft_basmt|\tSquare feet below ground\n",
    "yr_built|\tYear built\n",
    "yr_renov|\tYear renovated. ‘0’ if never renovated\n",
    "zipcode|\t5 digit zip code\n",
    "lat|\tLatitude\n",
    "long|\tLongitude\n",
    "squft_liv15|\tAverage size of interior housing living space for the closest 15 houses, in square feet\n",
    "squft_lot15|\tAverage size of land lots for the closest 15 houses, in square feet"
   ]
  },
  {
   "cell_type": "markdown",
   "metadata": {},
   "source": [
    "## Stakeholder Perspective\n",
    "Stakeholder: Bonnie Williams\n",
    "Age: 29 years\n",
    "Occupation: Entrepeneur\n",
    "\n",
    "Bonnie owns several houses across King County, mostly in \"bad\" neigborhoods and is looking to sell, preferably with large returns. She is open to renovating the houses before selling if it increases her bottom line. Bonnie inherited a few houses - of grade 3 to 7 exclusively - from her aunt Marie, i.e., her buildings are of lower construction quality, and mostly located in less desirable neighborhoods. Bonnie wants to sell to acquire enough money to start her own Data Science venture in King County. After discussing Bonnie's priorities we can make note of the assumptions that will guide our analysis:\n",
    "\n",
    "* Scope: Bonnie has limited time, because she wants to start her new venture asap. She therefore wants to **sell within the year**. She needs first results of the EDA within **two days**.\n",
    "* Bonnies wants to: \n",
    "  * learn about the **neighborhoods that have similar houses** and where they are in King County\n",
    "  * understand the **pricing for comparable houses** to those she wants to sell\n",
    "  * learn whether **renovating could increase her revenue**\n",
    "  * learn **when to best sell within the year**\n",
    "\n",
    "  \n",
    "We'll also make the following assumptions:\n",
    "\n",
    "* Bonnie's houses typically have 1-2 bedrooms, grade 3-7, no more than 2 baths and less than 10,000 sqft lot size\n",
    "\n",
    "Based on these assumptions Bonnie asks us to find at least three useful insights into the data (at least one of them geographical), as well as actionable recommendations on how to best achieve her goals in the current market.\n"
   ]
  },
  {
   "cell_type": "markdown",
   "metadata": {},
   "source": [
    "## EDA"
   ]
  },
  {
   "cell_type": "markdown",
   "metadata": {},
   "source": []
  }
 ],
 "metadata": {
  "language_info": {
   "name": "python"
  },
  "orig_nbformat": 4
 },
 "nbformat": 4,
 "nbformat_minor": 2
}
